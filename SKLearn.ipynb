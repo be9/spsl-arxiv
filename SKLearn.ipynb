{
 "cells": [
  {
   "cell_type": "markdown",
   "metadata": {},
   "source": [
    "Configuration"
   ]
  },
  {
   "cell_type": "code",
   "execution_count": 9,
   "metadata": {
    "collapsed": true
   },
   "outputs": [],
   "source": [
    "# How many subjects to take\n",
    "TOP_SUBJECTS = 15\n",
    "\n",
    "# These words will be ignored\n",
    "STOP_LIST = set('for a an of the and to in on - with i. we'.split())"
   ]
  },
  {
   "cell_type": "code",
   "execution_count": 17,
   "metadata": {
    "collapsed": true
   },
   "outputs": [],
   "source": [
    "import numpy as np\n",
    "import pickle\n",
    "\n",
    "from sklearn.feature_extraction.text import CountVectorizer, TfidfVectorizer\n",
    "from sklearn.pipeline import Pipeline\n",
    "from sklearn.svm import SVC\n",
    "from sklearn.metrics import accuracy_score\n",
    "from sklearn.model_selection import cross_val_score, StratifiedShuffleSplit"
   ]
  },
  {
   "cell_type": "markdown",
   "metadata": {},
   "source": [
    "Load data, pick top subjects and prepare `X` and `y`"
   ]
  },
  {
   "cell_type": "code",
   "execution_count": 25,
   "metadata": {},
   "outputs": [
    {
     "name": "stdout",
     "output_type": "stream",
     "text": [
      "total examples 9042\n"
     ]
    }
   ],
   "source": [
    "with open('preprocessed_arxiv.pickle', 'rb') as f:\n",
    "    articles_by_subject = pickle.load(f)\n",
    "\n",
    "# Here we select TOP_SUBJECTS subjects (which have the most articles)\n",
    "subjects = sorted(articles_by_subject,\n",
    "                  key=lambda k: len(articles_by_subject[k]), reverse=True)[:TOP_SUBJECTS]\n",
    "\n",
    "# Prepare X and y\n",
    "def tokenize(article):\n",
    "    text = article['title'] + ' ' + article['abstract']\n",
    "\n",
    "    return \" \".join(word for word in text.lower().split() if word not in STOP_LIST)\n",
    "\n",
    "X, y = [], []\n",
    "\n",
    "for subj in subjects:\n",
    "    for article in articles_by_subject[subj]:\n",
    "        X.append(tokenize(article))\n",
    "        y.append(subj)\n",
    "        \n",
    "X, y = np.array(X), np.array(y)\n",
    "print(\"total examples %d\" % len(y))"
   ]
  },
  {
   "cell_type": "markdown",
   "metadata": {},
   "source": [
    "Prepare classification models"
   ]
  },
  {
   "cell_type": "code",
   "execution_count": 26,
   "metadata": {
    "collapsed": true
   },
   "outputs": [],
   "source": [
    "svc = Pipeline([(\"count_vectorizer\", CountVectorizer(analyzer='word')), \n",
    "                (\"linear svc\", SVC(kernel=\"linear\"))])\n",
    "\n",
    "svc_tfidf = Pipeline([(\"tfidf_vectorizer\", TfidfVectorizer(analyzer='word')),\n",
    "                      (\"linear svc\", SVC(kernel=\"linear\"))])"
   ]
  },
  {
   "cell_type": "code",
   "execution_count": 27,
   "metadata": {},
   "outputs": [
    {
     "name": "stdout",
     "output_type": "stream",
     "text": [
      "Model svc\n",
      "[CV]  ................................................................\n",
      "[CV]  ................................................................\n",
      "[CV]  ................................................................\n",
      "[CV]  ................................................................\n",
      "[CV] ................................................. , total=  42.8s\n",
      "[CV]  ................................................................\n",
      "[CV] ................................................. , total=  45.0s\n",
      "[CV] ................................................. , total=  44.9s\n",
      "[CV] ................................................. , total=  45.4s\n",
      "[CV] ................................................. , total=  29.8s\n",
      "Score 0.6134120247211878\n",
      "Model svc_tfidf\n"
     ]
    },
    {
     "name": "stderr",
     "output_type": "stream",
     "text": [
      "[Parallel(n_jobs=-1)]: Done   5 out of   5 | elapsed:  1.2min finished\n"
     ]
    },
    {
     "name": "stdout",
     "output_type": "stream",
     "text": [
      "[CV]  ................................................................\n",
      "[CV]  ................................................................\n",
      "[CV]  ................................................................\n",
      "[CV]  ................................................................\n",
      "[CV] ................................................. , total= 1.2min\n",
      "[CV]  ................................................................\n",
      "[CV] ................................................. , total= 1.2min\n",
      "[CV] ................................................. , total= 1.2min\n",
      "[CV] ................................................. , total= 1.2min\n",
      "[CV] ................................................. , total=  46.6s\n",
      "Score 0.681544227969687\n"
     ]
    },
    {
     "name": "stderr",
     "output_type": "stream",
     "text": [
      "[Parallel(n_jobs=-1)]: Done   5 out of   5 | elapsed:  2.0min finished\n"
     ]
    }
   ],
   "source": [
    "all_models = [\n",
    "    (\"svc\", svc),\n",
    "    (\"svc_tfidf\", svc_tfidf),\n",
    "]\n",
    "\n",
    "for name, model in all_models:\n",
    "    print(\"Model {}\".format(name))\n",
    "    \n",
    "    score = cross_val_score(model, X, y, cv=5, verbose=2, n_jobs=-1).mean()\n",
    "    print(\"Score {}\".format(score))"
   ]
  },
  {
   "cell_type": "code",
   "execution_count": null,
   "metadata": {
    "collapsed": true
   },
   "outputs": [],
   "source": []
  }
 ],
 "metadata": {
  "kernelspec": {
   "display_name": "Python 3",
   "language": "python",
   "name": "python3"
  },
  "language_info": {
   "codemirror_mode": {
    "name": "ipython",
    "version": 3
   },
   "file_extension": ".py",
   "mimetype": "text/x-python",
   "name": "python",
   "nbconvert_exporter": "python",
   "pygments_lexer": "ipython3",
   "version": "3.6.3"
  }
 },
 "nbformat": 4,
 "nbformat_minor": 2
}
