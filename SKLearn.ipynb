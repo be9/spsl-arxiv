{
 "cells": [
  {
   "cell_type": "markdown",
   "metadata": {},
   "source": [
    "Inspired by [Text Classification With Word2Vec](http://nadbordrozd.github.io/blog/2016/05/20/text-classification-with-word2vec/),\n",
    "code [here](https://github.com/nadbordrozd/blog_stuff/blob/master/classification_w2v/benchmarking.ipynb)."
   ]
  },
  {
   "cell_type": "markdown",
   "metadata": {},
   "source": [
    "Configuration"
   ]
  },
  {
   "cell_type": "code",
   "execution_count": 1,
   "metadata": {
    "collapsed": true
   },
   "outputs": [],
   "source": [
    "# How many subjects to take\n",
    "TOP_SUBJECTS = 15"
   ]
  },
  {
   "cell_type": "code",
   "execution_count": 2,
   "metadata": {
    "collapsed": true
   },
   "outputs": [],
   "source": [
    "import numpy as np\n",
    "import pickle\n",
    "\n",
    "from sklearn.feature_extraction.text import CountVectorizer, TfidfVectorizer\n",
    "from sklearn.pipeline import Pipeline\n",
    "from sklearn.svm import SVC\n",
    "from sklearn.metrics import accuracy_score\n",
    "from sklearn.model_selection import cross_val_score, StratifiedShuffleSplit\n",
    "from sklearn.naive_bayes import BernoulliNB, MultinomialNB"
   ]
  },
  {
   "cell_type": "markdown",
   "metadata": {},
   "source": [
    "Load data, pick top subjects and prepare `X` and `y`"
   ]
  },
  {
   "cell_type": "code",
   "execution_count": 3,
   "metadata": {},
   "outputs": [
    {
     "name": "stdout",
     "output_type": "stream",
     "text": [
      "total examples 9042\n"
     ]
    }
   ],
   "source": [
    "with open('preprocessed_arxiv.pickle', 'rb') as f:\n",
    "    articles_by_subject = pickle.load(f)\n",
    "\n",
    "# Here we select TOP_SUBJECTS subjects (which have the most articles)\n",
    "subjects = sorted(articles_by_subject,\n",
    "                  key=lambda k: len(articles_by_subject[k]), reverse=True)[:TOP_SUBJECTS]\n",
    "\n",
    "# Prepare X and y\n",
    "def tokenize(article):\n",
    "    text = article['title'] + ' ' + article['abstract']\n",
    "\n",
    "    return \" \".join(word for word in text.lower().split())\n",
    "\n",
    "X, y = [], []\n",
    "\n",
    "for subj in subjects:\n",
    "    for article in articles_by_subject[subj]:\n",
    "        X.append(tokenize(article))\n",
    "        y.append(subj)\n",
    "        \n",
    "X, y = np.array(X), np.array(y)\n",
    "print(\"total examples %d\" % len(y))"
   ]
  },
  {
   "cell_type": "markdown",
   "metadata": {},
   "source": [
    "Prepare classification models"
   ]
  },
  {
   "cell_type": "code",
   "execution_count": 4,
   "metadata": {},
   "outputs": [],
   "source": [
    "mult_nb = Pipeline([(\"count_vectorizer\", CountVectorizer()),\n",
    "                    (\"multinomial nb\", MultinomialNB())])\n",
    "\n",
    "bern_nb = Pipeline([(\"count_vectorizer\", CountVectorizer()),\n",
    "                    (\"bernoulli nb\", BernoulliNB())])\n",
    "\n",
    "mult_nb_tfidf = Pipeline([(\"tfidf_vectorizer\", TfidfVectorizer()),\n",
    "                          (\"multinomial nb\", MultinomialNB())])\n",
    "\n",
    "bern_nb_tfidf = Pipeline([(\"tfidf_vectorizer\", TfidfVectorizer()),\n",
    "                          (\"bernoulli nb\", BernoulliNB())])\n",
    "\n",
    "svc = Pipeline([(\"count_vectorizer\", CountVectorizer(analyzer='word')), \n",
    "                (\"linear svc\", SVC(kernel=\"linear\"))])\n",
    "\n",
    "svc_tfidf = Pipeline([(\"tfidf_vectorizer\", TfidfVectorizer(analyzer='word')),\n",
    "                      (\"linear svc\", SVC(kernel=\"linear\"))])"
   ]
  },
  {
   "cell_type": "code",
   "execution_count": 6,
   "metadata": {},
   "outputs": [
    {
     "name": "stdout",
     "output_type": "stream",
     "text": [
      "Model mult_nb\n",
      "[CV]  ................................................................\n",
      "[CV]  ................................................................\n",
      "[CV]  ................................................................\n",
      "[CV]  ................................................................\n",
      "[CV] ................................................. , total=   2.9s\n",
      "[CV]  ................................................................\n",
      "[CV] ................................................. , total=   2.9s\n",
      "[CV] ................................................. , total=   3.0s\n",
      "[CV] ................................................. , total=   3.0s\n",
      "[CV] ................................................. , total=   1.8s\n",
      "Score 0.7052161211178045\n",
      "Model mult_nb_tfidf\n"
     ]
    },
    {
     "name": "stderr",
     "output_type": "stream",
     "text": [
      "[Parallel(n_jobs=-1)]: Done   5 out of   5 | elapsed:    5.3s finished\n"
     ]
    },
    {
     "name": "stdout",
     "output_type": "stream",
     "text": [
      "[CV]  ................................................................\n",
      "[CV]  ................................................................\n",
      "[CV]  ................................................................\n",
      "[CV]  ................................................................\n",
      "[CV] ................................................. , total=   3.1s\n",
      "[CV]  ................................................................\n",
      "[CV] ................................................. , total=   3.2s\n",
      "[CV] ................................................. , total=   3.1s\n",
      "[CV] ................................................. , total=   3.0s\n",
      "[CV] ................................................. , total=   1.7s\n",
      "Score 0.6390770303705934\n",
      "Model bern_nb\n"
     ]
    },
    {
     "name": "stderr",
     "output_type": "stream",
     "text": [
      "[Parallel(n_jobs=-1)]: Done   5 out of   5 | elapsed:    5.3s finished\n"
     ]
    },
    {
     "name": "stdout",
     "output_type": "stream",
     "text": [
      "[CV]  ................................................................\n",
      "[CV]  ................................................................\n",
      "[CV]  ................................................................\n",
      "[CV]  ................................................................\n",
      "[CV] ................................................. , total=   3.2s\n",
      "[CV]  ................................................................\n",
      "[CV] ................................................. , total=   3.2s\n",
      "[CV] ................................................. , total=   3.2s\n",
      "[CV] ................................................. , total=   3.1s\n",
      "[CV] ................................................. , total=   1.8s\n",
      "Score 0.6231627141839039\n",
      "Model bern_nb_tfidf\n"
     ]
    },
    {
     "name": "stderr",
     "output_type": "stream",
     "text": [
      "[Parallel(n_jobs=-1)]: Done   5 out of   5 | elapsed:    5.7s finished\n"
     ]
    },
    {
     "name": "stdout",
     "output_type": "stream",
     "text": [
      "[CV]  ................................................................\n",
      "[CV]  ................................................................\n",
      "[CV]  ................................................................\n",
      "[CV]  ................................................................\n",
      "[CV] ................................................. , total=   3.6s\n",
      "[CV]  ................................................................\n",
      "[CV] ................................................. , total=   3.7s\n",
      "[CV] ................................................. , total=   3.7s\n",
      "[CV] ................................................. , total=   3.6s\n",
      "[CV] ................................................. , total=   1.8s\n",
      "Score 0.6231627141839039\n",
      "Model svc\n"
     ]
    },
    {
     "name": "stderr",
     "output_type": "stream",
     "text": [
      "[Parallel(n_jobs=-1)]: Done   5 out of   5 | elapsed:    6.0s finished\n"
     ]
    },
    {
     "name": "stdout",
     "output_type": "stream",
     "text": [
      "[CV]  ................................................................\n",
      "[CV]  ................................................................\n",
      "[CV]  ................................................................\n",
      "[CV]  ................................................................\n",
      "[CV] ................................................. , total=  46.1s\n",
      "[CV]  ................................................................\n",
      "[CV] ................................................. , total=  48.1s\n",
      "[CV] ................................................. , total=  48.7s\n",
      "[CV] ................................................. , total=  48.7s\n",
      "[CV] ................................................. , total=  31.6s\n",
      "Score 0.6144033251159782\n",
      "Model svc_tfidf\n"
     ]
    },
    {
     "name": "stderr",
     "output_type": "stream",
     "text": [
      "[Parallel(n_jobs=-1)]: Done   5 out of   5 | elapsed:  1.3min finished\n"
     ]
    },
    {
     "name": "stdout",
     "output_type": "stream",
     "text": [
      "[CV]  ................................................................\n",
      "[CV]  ................................................................\n",
      "[CV]  ................................................................\n",
      "[CV]  ................................................................\n",
      "[CV] ................................................. , total= 1.2min\n",
      "[CV]  ................................................................\n",
      "[CV] ................................................. , total= 1.3min\n",
      "[CV] ................................................. , total= 1.2min\n",
      "[CV] ................................................. , total= 1.3min\n",
      "[CV] ................................................. , total=  48.5s\n",
      "Score 0.6826532394001967\n"
     ]
    },
    {
     "name": "stderr",
     "output_type": "stream",
     "text": [
      "[Parallel(n_jobs=-1)]: Done   5 out of   5 | elapsed:  2.0min finished\n"
     ]
    }
   ],
   "source": [
    "all_models = [\n",
    "    (\"mult_nb\", mult_nb),\n",
    "    (\"mult_nb_tfidf\", mult_nb_tfidf),\n",
    "    (\"bern_nb\", bern_nb),\n",
    "    (\"bern_nb_tfidf\", bern_nb_tfidf),\n",
    "    (\"svc\", svc),\n",
    "    (\"svc_tfidf\", svc_tfidf),\n",
    "]\n",
    "\n",
    "scores = []\n",
    "\n",
    "for name, model in all_models:\n",
    "    print(\"Model {}\".format(name))\n",
    "    \n",
    "    score = cross_val_score(model, X, y, cv=5, verbose=2, n_jobs=-1).mean()\n",
    "    print(\"Score {}\".format(score))\n",
    "    \n",
    "    scores.append((name, score))"
   ]
  },
  {
   "cell_type": "code",
   "execution_count": 16,
   "metadata": {},
   "outputs": [
    {
     "name": "stdout",
     "output_type": "stream",
     "text": [
      "             mult_nb 0.7052\n",
      "           svc_tfidf 0.6827\n",
      "       mult_nb_tfidf 0.6391\n",
      "             bern_nb 0.6232\n",
      "       bern_nb_tfidf 0.6232\n",
      "                 svc 0.6144\n"
     ]
    }
   ],
   "source": [
    "for name, score in sorted(scores, key=lambda s: -s[1]):\n",
    "    print(\"%20s %.4f\" % (name, score))"
   ]
  },
  {
   "cell_type": "code",
   "execution_count": null,
   "metadata": {
    "collapsed": true
   },
   "outputs": [],
   "source": []
  }
 ],
 "metadata": {
  "kernelspec": {
   "display_name": "Python 3",
   "language": "python",
   "name": "python3"
  },
  "language_info": {
   "codemirror_mode": {
    "name": "ipython",
    "version": 3
   },
   "file_extension": ".py",
   "mimetype": "text/x-python",
   "name": "python",
   "nbconvert_exporter": "python",
   "pygments_lexer": "ipython3",
   "version": "3.6.3"
  }
 },
 "nbformat": 4,
 "nbformat_minor": 2
}
